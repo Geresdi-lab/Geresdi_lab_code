{
 "cells": [
  {
   "cell_type": "code",
   "execution_count": 1,
   "metadata": {},
   "outputs": [
    {
     "ename": "ModuleNotFoundError",
     "evalue": "No module named 'spi_rack.spi_module_base'; 'spi_rack' is not a package",
     "output_type": "error",
     "traceback": [
      "\u001b[1;31m---------------------------------------------------------------------------\u001b[0m",
      "\u001b[1;31mModuleNotFoundError\u001b[0m                       Traceback (most recent call last)",
      "Input \u001b[1;32mIn [1]\u001b[0m, in \u001b[0;36m<module>\u001b[1;34m\u001b[0m\n\u001b[0;32m     29\u001b[0m \u001b[38;5;28;01mimport\u001b[39;00m \u001b[38;5;21;01mlmfit\u001b[39;00m\n\u001b[0;32m     30\u001b[0m \u001b[38;5;28;01mfrom\u001b[39;00m \u001b[38;5;21;01mpandas\u001b[39;00m \u001b[38;5;28;01mimport\u001b[39;00m Series\n\u001b[1;32m---> 33\u001b[0m \u001b[38;5;28;01mimport\u001b[39;00m \u001b[38;5;21;01mspi_rack\u001b[39;00m\n\u001b[0;32m     34\u001b[0m \u001b[38;5;28mprint\u001b[39m (\u001b[38;5;124m\"\u001b[39m\u001b[38;5;124mDone\u001b[39m\u001b[38;5;124m\"\u001b[39m)\n",
      "File \u001b[1;32mT:\\mc2-qdp-gold\\_Communal\\Software and coding\\Driver adjustments\\spi_rack\\spi_rack.py:16\u001b[0m, in \u001b[0;36m<module>\u001b[1;34m\u001b[0m\n\u001b[0;32m     12\u001b[0m \u001b[38;5;28;01mfrom\u001b[39;00m \u001b[38;5;21;01mqblox_instruments\u001b[39;00m \u001b[38;5;28;01mimport\u001b[39;00m build\n\u001b[0;32m     14\u001b[0m \u001b[38;5;28;01mfrom\u001b[39;00m \u001b[38;5;21;01mspirack\u001b[39;00m\u001b[38;5;21;01m.\u001b[39;00m\u001b[38;5;21;01mspi_rack\u001b[39;00m \u001b[38;5;28;01mimport\u001b[39;00m SPI_rack \u001b[38;5;28;01mas\u001b[39;00m spi_api\n\u001b[1;32m---> 16\u001b[0m \u001b[38;5;28;01mfrom\u001b[39;00m \u001b[38;5;21;01mspi_rack\u001b[39;00m\u001b[38;5;21;01m.\u001b[39;00m\u001b[38;5;21;01mspi_module_base\u001b[39;00m \u001b[38;5;28;01mimport\u001b[39;00m spi_module_base, dummy_spi_module\n\u001b[0;32m     17\u001b[0m \u001b[38;5;28;01mfrom\u001b[39;00m \u001b[38;5;21;01mspi_rack\u001b[39;00m\u001b[38;5;21;01m.\u001b[39;00m\u001b[38;5;21;01ms4g_module\u001b[39;00m \u001b[38;5;28;01mimport\u001b[39;00m s4g_module\n\u001b[0;32m     18\u001b[0m \u001b[38;5;28;01mfrom\u001b[39;00m \u001b[38;5;21;01mspi_rack\u001b[39;00m\u001b[38;5;21;01m.\u001b[39;00m\u001b[38;5;21;01md5a_module\u001b[39;00m \u001b[38;5;28;01mimport\u001b[39;00m d5a_module\n",
      "\u001b[1;31mModuleNotFoundError\u001b[0m: No module named 'spi_rack.spi_module_base'; 'spi_rack' is not a package"
     ]
    }
   ],
   "source": [
    "%matplotlib widget\n",
    "%config Completer.use_jedi = False\n",
    "import os\n",
    "from time import sleep\n",
    "\n",
    "import matplotlib.pyplot as plt\n",
    "import numpy as np\n",
    "import qcodes as qc\n",
    "import math as math\n",
    "from qcodes import (\n",
    "    Station,\n",
    "    Measurement,\n",
    "    experiments,\n",
    "    initialise_database,\n",
    "    initialise_or_create_database_at,\n",
    "    load_by_guid,\n",
    "    load_by_run_spec,\n",
    "    load_experiment,\n",
    "    load_last_experiment,\n",
    "    load_or_create_experiment,\n",
    "    new_experiment,\n",
    ")\n",
    "\n",
    "from qcodes.dataset.plotting import plot_dataset, plot_by_id\n",
    "from qcodes.logger.logger import start_all_logging\n",
    "import datetime\n",
    "\n",
    "\n",
    "import lmfit\n",
    "from pandas import Series\n",
    "\n",
    "\n",
    "import spi_rack\n",
    "print (\"Done\")"
   ]
  },
  {
   "cell_type": "code",
   "execution_count": 2,
   "metadata": {},
   "outputs": [
    {
     "name": "stdout",
     "output_type": "stream",
     "text": [
      "Logging hadn't been started.\n",
      "Activating auto-logging. Current session state plus future input saved.\n",
      "Filename       : C:\\Users\\Lab\\.qcodes\\logs\\command_history.log\n",
      "Mode           : append\n",
      "Output logging : True\n",
      "Raw input log  : False\n",
      "Timestamping   : True\n",
      "State          : active\n",
      "Qcodes Logfile : C:\\Users\\Lab\\.qcodes\\logs\\220411-11964-qcodes.log\n",
      "Done\n"
     ]
    }
   ],
   "source": [
    "start_all_logging()\n",
    "print (\"Done\")"
   ]
  },
  {
   "cell_type": "code",
   "execution_count": 3,
   "metadata": {},
   "outputs": [
    {
     "ename": "ModuleNotFoundError",
     "evalue": "No module named 'spi_rack.spi_module_base'; 'spi_rack' is not a package",
     "output_type": "error",
     "traceback": [
      "\u001b[1;31m---------------------------------------------------------------------------\u001b[0m",
      "\u001b[1;31mModuleNotFoundError\u001b[0m                       Traceback (most recent call last)",
      "Input \u001b[1;32mIn [3]\u001b[0m, in \u001b[0;36m<module>\u001b[1;34m\u001b[0m\n\u001b[1;32m----> 1\u001b[0m \u001b[38;5;28;01mimport\u001b[39;00m \u001b[38;5;21;01mspi_rack\u001b[39;00m\n\u001b[0;32m      2\u001b[0m \u001b[38;5;28;01mfrom\u001b[39;00m \u001b[38;5;21;01mspi_rack\u001b[39;00m\u001b[38;5;21;01m.\u001b[39;00m\u001b[38;5;21;01mspi_rack\u001b[39;00m \u001b[38;5;28;01mimport\u001b[39;00m spi_rack\n\u001b[0;32m      4\u001b[0m dac_list \u001b[38;5;241m=\u001b[39m []\n",
      "File \u001b[1;32mT:\\mc2-qdp-gold\\_Communal\\Software and coding\\Driver adjustments\\spi_rack\\spi_rack.py:16\u001b[0m, in \u001b[0;36m<module>\u001b[1;34m\u001b[0m\n\u001b[0;32m     12\u001b[0m \u001b[38;5;28;01mfrom\u001b[39;00m \u001b[38;5;21;01mqblox_instruments\u001b[39;00m \u001b[38;5;28;01mimport\u001b[39;00m build\n\u001b[0;32m     14\u001b[0m \u001b[38;5;28;01mfrom\u001b[39;00m \u001b[38;5;21;01mspirack\u001b[39;00m\u001b[38;5;21;01m.\u001b[39;00m\u001b[38;5;21;01mspi_rack\u001b[39;00m \u001b[38;5;28;01mimport\u001b[39;00m SPI_rack \u001b[38;5;28;01mas\u001b[39;00m spi_api\n\u001b[1;32m---> 16\u001b[0m \u001b[38;5;28;01mfrom\u001b[39;00m \u001b[38;5;21;01mspi_rack\u001b[39;00m\u001b[38;5;21;01m.\u001b[39;00m\u001b[38;5;21;01mspi_module_base\u001b[39;00m \u001b[38;5;28;01mimport\u001b[39;00m spi_module_base, dummy_spi_module\n\u001b[0;32m     17\u001b[0m \u001b[38;5;28;01mfrom\u001b[39;00m \u001b[38;5;21;01mspi_rack\u001b[39;00m\u001b[38;5;21;01m.\u001b[39;00m\u001b[38;5;21;01ms4g_module\u001b[39;00m \u001b[38;5;28;01mimport\u001b[39;00m s4g_module\n\u001b[0;32m     18\u001b[0m \u001b[38;5;28;01mfrom\u001b[39;00m \u001b[38;5;21;01mspi_rack\u001b[39;00m\u001b[38;5;21;01m.\u001b[39;00m\u001b[38;5;21;01md5a_module\u001b[39;00m \u001b[38;5;28;01mimport\u001b[39;00m d5a_module\n",
      "\u001b[1;31mModuleNotFoundError\u001b[0m: No module named 'spi_rack.spi_module_base'; 'spi_rack' is not a package"
     ]
    }
   ],
   "source": [
    "\n",
    "from spi_rack.spi_rack import spi_rack\n",
    "\n",
    "dac_list = []\n",
    "for i in range(1,17):\n",
    "    dac_list.append(f'dac{i}')\n",
    "    \n",
    "spi = spi_rack('SPI Rack', 'COM5')\n",
    "spi.add_spi_module(1, \"D5a\", \"DAC\", dac_names = dac_list, reset_voltages = True) # Alias =  DAC \n",
    "dac = spi.DAC"
   ]
  },
  {
   "cell_type": "code",
   "execution_count": 4,
   "metadata": {},
   "outputs": [],
   "source": [
    "from spi_rack import switch\n",
    "from spi_rack.switch import mw_switch_class\n"
   ]
  },
  {
   "cell_type": "code",
   "execution_count": 5,
   "metadata": {},
   "outputs": [],
   "source": [
    "switch_dac_list = []\n",
    "for i in range (1,7):\n",
    "    switch_dac_list.append(eval(f'dac.dac{i}'))\n",
    "# just does this:\n",
    "# switch_dac_list = [dac.dac1, dac.dac2, dac.dac3, dac.dac4, dac.dac5, dac.dac6]\n"
   ]
  },
  {
   "cell_type": "code",
   "execution_count": 6,
   "metadata": {},
   "outputs": [
    {
     "name": "stdout",
     "output_type": "stream",
     "text": [
      "Hopefully everything is grounded and off. You've still got 8s.. setting the range to 4V\n",
      "By the way, resetting the switch\n"
     ]
    }
   ],
   "source": [
    "mw_switch = mw_switch_class(name = \"switch\",\n",
    "                           dac_list = switch_dac_list,\n",
    "                           turn_ramp_off = True,\n",
    "                           reset_switch = True\n",
    "                           )"
   ]
  },
  {
   "cell_type": "code",
   "execution_count": 10,
   "metadata": {},
   "outputs": [
    {
     "name": "stdout",
     "output_type": "stream",
     "text": [
      "[0.0, 0]\n",
      "[0.0, 0]\n",
      "[0.0, 0]\n",
      "[0.0, 0]\n",
      "[0.0, 0]\n",
      "[0.0, 0]\n"
     ]
    }
   ],
   "source": [
    "for i in range(1,7):\n",
    "    eval(f\"dac.dac{i}.voltage(0)\")\n",
    "    print(eval(f\"dac.dac{i}.get_settings(i-1)\"))"
   ]
  },
  {
   "cell_type": "code",
   "execution_count": 8,
   "metadata": {},
   "outputs": [],
   "source": [
    "mw_switch.open_port(1)"
   ]
  },
  {
   "cell_type": "code",
   "execution_count": null,
   "metadata": {},
   "outputs": [],
   "source": [
    "spi.DAC.dac0.voltage(0.5)\n",
    "spi.set_dacs_zero()\n",
    "spi.DAC.dac0.voltage()"
   ]
  },
  {
   "cell_type": "code",
   "execution_count": 3,
   "metadata": {},
   "outputs": [],
   "source": [
    "# # Import parts of the SPI Rack library\n",
    "# from spirack import SPI_rack, D5a_module\n",
    "# import qcodes_contrib_drivers.drivers.QuTech.D5a\n",
    "\n",
    "# spi_rack = SPI_rack(port=\"COM5\", baud=9600, timeout=1)  # Instantiate the controller module\n",
    "# spi_rack.unlock() # Unlock the controller to be able to send data\n",
    "\n",
    "# DAC = qcodes_contrib_drivers.drivers.QuTech.D5a.D5a('DAC', \n",
    "#                                                     spi_rack, \n",
    "#                                                     module = 1, \n",
    "#                                                     reset_voltages = True, \n",
    "#                                                     mV=False\n",
    "#                                                    )\n",
    "# DAC_mod = DAC.d5a"
   ]
  },
  {
   "cell_type": "code",
   "execution_count": 26,
   "metadata": {},
   "outputs": [],
   "source": [
    "spi.close()"
   ]
  },
  {
   "cell_type": "code",
   "execution_count": 29,
   "metadata": {},
   "outputs": [
    {
     "name": "stdout",
     "output_type": "stream",
     "text": [
      "25.15625\n",
      "[2.0, 0]\n",
      "[0.0, 2]\n",
      "[0.0, 2]\n",
      "[0.0, 2]\n",
      "[0.0, 2]\n",
      "[0.0, 2]\n",
      "[0.0, 2]\n",
      "[0.0, 2]\n",
      "[0.0, 2]\n",
      "[0.0, 2]\n",
      "[0.0, 2]\n",
      "[0.0, 2]\n",
      "[0.0, 2]\n",
      "[0.0, 2]\n",
      "[0.0, 2]\n"
     ]
    }
   ],
   "source": [
    "# print(spi_rack.get_temperature())\n",
    "# for i in range(0,15):\n",
    "#     print(DAC_mod.get_settings(i))\n",
    "# #DAC._set_dac(0,0)"
   ]
  },
  {
   "cell_type": "code",
   "execution_count": 30,
   "metadata": {},
   "outputs": [],
   "source": [
    "# DAC._set_span(0,'4v bi')"
   ]
  },
  {
   "cell_type": "code",
   "execution_count": null,
   "metadata": {},
   "outputs": [],
   "source": []
  },
  {
   "cell_type": "code",
   "execution_count": 11,
   "metadata": {},
   "outputs": [
    {
     "ename": "NameError",
     "evalue": "name 'D5a' is not defined",
     "output_type": "error",
     "traceback": [
      "\u001b[1;31m---------------------------------------------------------------------------\u001b[0m",
      "\u001b[1;31mNameError\u001b[0m                                 Traceback (most recent call last)",
      "Input \u001b[1;32mIn [11]\u001b[0m, in \u001b[0;36m<module>\u001b[1;34m\u001b[0m\n\u001b[1;32m----> 1\u001b[0m \u001b[43mD5a\u001b[49m\u001b[38;5;241m.\u001b[39mchange_span_update(\u001b[38;5;241m1\u001b[39m, D5a\u001b[38;5;241m.\u001b[39mrange_4V_bi)\n\u001b[0;32m      3\u001b[0m stepsize \u001b[38;5;241m=\u001b[39m  D5a\u001b[38;5;241m.\u001b[39mget_stepsize(\u001b[38;5;241m1\u001b[39m) \u001b[38;5;66;03m# Get the stepsize of DAC 1\u001b[39;00m\n\u001b[0;32m      4\u001b[0m \u001b[38;5;28mprint\u001b[39m(\u001b[38;5;124m\"\u001b[39m\u001b[38;5;124mStepsize: \u001b[39m\u001b[38;5;124m\"\u001b[39m \u001b[38;5;241m+\u001b[39m \u001b[38;5;28mstr\u001b[39m(stepsize) \u001b[38;5;241m+\u001b[39m \u001b[38;5;124m\"\u001b[39m\u001b[38;5;124m V\u001b[39m\u001b[38;5;124m\"\u001b[39m)\n",
      "\u001b[1;31mNameError\u001b[0m: name 'D5a' is not defined"
     ]
    }
   ],
   "source": [
    "# DAC_mod.change_span_update(1, D5a.range_4V_bi)\n",
    "\n",
    "# stepsize =  D5a.get_stepsize(1) # Get the stepsize of DAC 1\n",
    "# print(\"Stepsize: \" + str(stepsize) + \" V\")\n"
   ]
  },
  {
   "cell_type": "code",
   "execution_count": 21,
   "metadata": {},
   "outputs": [],
   "source": []
  },
  {
   "cell_type": "code",
   "execution_count": 5,
   "metadata": {},
   "outputs": [],
   "source": [
    "# spi_rack.close()"
   ]
  },
  {
   "cell_type": "code",
   "execution_count": 16,
   "metadata": {},
   "outputs": [
    {
     "name": "stdout",
     "output_type": "stream",
     "text": [
      "[6.319486303710937, -6.3961734375]\n"
     ]
    }
   ],
   "source": [
    "# battery_v = spi_rack.get_battery()\n",
    "# print(battery_v)"
   ]
  },
  {
   "cell_type": "code",
   "execution_count": null,
   "metadata": {},
   "outputs": [],
   "source": []
  },
  {
   "cell_type": "code",
   "execution_count": null,
   "metadata": {},
   "outputs": [],
   "source": []
  }
 ],
 "metadata": {
  "kernelspec": {
   "display_name": "Python 3 (ipykernel)",
   "language": "python",
   "name": "python3"
  },
  "language_info": {
   "codemirror_mode": {
    "name": "ipython",
    "version": 3
   },
   "file_extension": ".py",
   "mimetype": "text/x-python",
   "name": "python",
   "nbconvert_exporter": "python",
   "pygments_lexer": "ipython3",
   "version": "3.9.1"
  }
 },
 "nbformat": 4,
 "nbformat_minor": 4
}
