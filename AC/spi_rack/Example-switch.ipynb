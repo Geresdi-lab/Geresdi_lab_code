{
 "cells": [
  {
   "cell_type": "code",
   "execution_count": 1,
   "metadata": {},
   "outputs": [
    {
     "name": "stdout",
     "output_type": "stream",
     "text": [
      "Done\n"
     ]
    }
   ],
   "source": [
    "%matplotlib widget\n",
    "%config Completer.use_jedi = False\n",
    "import os\n",
    "from time import sleep\n",
    "\n",
    "import matplotlib.pyplot as plt\n",
    "import numpy as np\n",
    "import qcodes as qc\n",
    "import math as math\n",
    "from qcodes import (\n",
    "    Station,\n",
    "    Measurement,\n",
    "    experiments,\n",
    "    initialise_database,\n",
    "    initialise_or_create_database_at,\n",
    "    load_by_guid,\n",
    "    load_by_run_spec,\n",
    "    load_experiment,\n",
    "    load_last_experiment,\n",
    "    load_or_create_experiment,\n",
    "    new_experiment,\n",
    ")\n",
    "\n",
    "from qcodes.dataset.plotting import plot_dataset, plot_by_id\n",
    "from qcodes.logger.logger import start_all_logging\n",
    "import datetime\n",
    "\n",
    "\n",
    "import lmfit\n",
    "from pandas import Series\n",
    "\n",
    "\n",
    "\n",
    "print (\"Done\")"
   ]
  },
  {
   "cell_type": "code",
   "execution_count": 2,
   "metadata": {},
   "outputs": [
    {
     "name": "stdout",
     "output_type": "stream",
     "text": [
      "Logging hadn't been started.\n",
      "Activating auto-logging. Current session state plus future input saved.\n",
      "Filename       : C:\\Users\\Lab\\.qcodes\\logs\\command_history.log\n",
      "Mode           : append\n",
      "Output logging : True\n",
      "Raw input log  : False\n",
      "Timestamping   : True\n",
      "State          : active\n",
      "Qcodes Logfile : C:\\Users\\Lab\\.qcodes\\logs\\220422-6776-qcodes.log\n",
      "Done\n"
     ]
    }
   ],
   "source": [
    "start_all_logging()\n",
    "print (\"Done\")"
   ]
  },
  {
   "cell_type": "code",
   "execution_count": 3,
   "metadata": {},
   "outputs": [
    {
     "ename": "NameError",
     "evalue": "name 'spi' is not defined",
     "output_type": "error",
     "traceback": [
      "\u001b[1;31m---------------------------------------------------------------------------\u001b[0m",
      "\u001b[1;31mNameError\u001b[0m                                 Traceback (most recent call last)",
      "Input \u001b[1;32mIn [3]\u001b[0m, in \u001b[0;36m<module>\u001b[1;34m\u001b[0m\n\u001b[1;32m----> 1\u001b[0m \u001b[43mspi\u001b[49m\u001b[38;5;241m.\u001b[39mclose()\n",
      "\u001b[1;31mNameError\u001b[0m: name 'spi' is not defined"
     ]
    }
   ],
   "source": [
    "#spi.close()"
   ]
  },
  {
   "cell_type": "code",
   "execution_count": 3,
   "metadata": {},
   "outputs": [
    {
     "name": "stdout",
     "output_type": "stream",
     "text": [
      "Connected to: Qblox SPI Rack (serial:None, firmware:{'device': 'v1.6 - May 10 2019 - mt', 'driver': {'version': '0.5.4', 'date': '22/12/2021-11:53:04', 'hash': '0xD5221306', 'dirty': False}}) in 0.00s\n"
     ]
    }
   ],
   "source": [
    "import spi_rack\n",
    "from spi_rack.spi_rack import spi_rack\n",
    "from spi_rack import switch\n",
    "\n",
    "dac_list = []\n",
    "for i in range(1,17):\n",
    "    dac_list.append(f'dac{i}')\n",
    "    \n",
    "spi = spi_rack('SPI Rack', 'COM5')\n",
    "spi.add_spi_module(1, \"D5a\", \"DAC\", dac_names = dac_list, reset_voltages = True) # Alias =  DAC \n",
    "dac = spi.DAC"
   ]
  },
  {
   "cell_type": "code",
   "execution_count": 4,
   "metadata": {},
   "outputs": [],
   "source": [
    "from spi_rack.switch import mw_switch_class\n"
   ]
  },
  {
   "cell_type": "code",
   "execution_count": 5,
   "metadata": {},
   "outputs": [],
   "source": [
    "switch_dac_list = []\n",
    "for i in range (1,7):\n",
    "    switch_dac_list.append(eval(f'dac.dac{i}'))\n",
    "# just does this:\n",
    "# switch_dac_list = [dac.dac1, dac.dac2, dac.dac3, dac.dac4, dac.dac5, dac.dac6]\n"
   ]
  },
  {
   "cell_type": "code",
   "execution_count": 6,
   "metadata": {
    "tags": []
   },
   "outputs": [
    {
     "name": "stdout",
     "output_type": "stream",
     "text": [
      "Hopefully everything is grounded and off. You've still got 10s..\n",
      "Setting the range on the DACs to 4V_uni and 0V output.\n",
      "Voltage spikes MAY and probably WILL occur!\n",
      "By the way, resetting the switch\n",
      " Wait atleast 6s!\n",
      "Opening port 1, voltage provided by: <d5a_dac_channel: SPI Rack_DAC_dac1 of d5a_module: SPI Rack_DAC>\n",
      "Closing port 1, shutting down: <d5a_dac_channel: SPI Rack_DAC_dac1 of d5a_module: SPI Rack_DAC> to 0V\n",
      "Opening port 2, voltage provided by: <d5a_dac_channel: SPI Rack_DAC_dac2 of d5a_module: SPI Rack_DAC>\n",
      "Closing port 2, shutting down: <d5a_dac_channel: SPI Rack_DAC_dac2 of d5a_module: SPI Rack_DAC> to 0V\n",
      "Opening port 3, voltage provided by: <d5a_dac_channel: SPI Rack_DAC_dac3 of d5a_module: SPI Rack_DAC>\n",
      "Closing port 3, shutting down: <d5a_dac_channel: SPI Rack_DAC_dac3 of d5a_module: SPI Rack_DAC> to 0V\n",
      "Opening port 4, voltage provided by: <d5a_dac_channel: SPI Rack_DAC_dac4 of d5a_module: SPI Rack_DAC>\n",
      "Closing port 4, shutting down: <d5a_dac_channel: SPI Rack_DAC_dac4 of d5a_module: SPI Rack_DAC> to 0V\n",
      "Opening port 5, voltage provided by: <d5a_dac_channel: SPI Rack_DAC_dac5 of d5a_module: SPI Rack_DAC>\n",
      "Closing port 5, shutting down: <d5a_dac_channel: SPI Rack_DAC_dac5 of d5a_module: SPI Rack_DAC> to 0V\n",
      "Opening port 6, voltage provided by: <d5a_dac_channel: SPI Rack_DAC_dac6 of d5a_module: SPI Rack_DAC>\n",
      "Closing port 6, shutting down: <d5a_dac_channel: SPI Rack_DAC_dac6 of d5a_module: SPI Rack_DAC> to 0V\n"
     ]
    }
   ],
   "source": [
    "mw_switch = mw_switch_class(name = \"switch\",\n",
    "                           dac_list = switch_dac_list,\n",
    "                           turn_ramp_off = True,\n",
    "                           reset_switch = True\n",
    "                           )"
   ]
  },
  {
   "cell_type": "code",
   "execution_count": 46,
   "metadata": {
    "tags": []
   },
   "outputs": [
    {
     "name": "stdout",
     "output_type": "stream",
     "text": [
      "[0.0, 0]\n",
      "[0.0, 0]\n",
      "[0.0, 0]\n",
      "[0.0, 0]\n",
      "[0.0, 0]\n",
      "[0.0, 0]\n"
     ]
    }
   ],
   "source": [
    "for i in range(1,7):\n",
    "    #eval(f\"dac.dac{i}.voltage(0)\")\n",
    "    print(eval(f\"dac.dac{i}.get_settings(i-1)\"))"
   ]
  },
  {
   "cell_type": "code",
   "execution_count": 43,
   "metadata": {},
   "outputs": [
    {
     "name": "stdout",
     "output_type": "stream",
     "text": [
      "Opening port 3, voltage provided by: <d5a_dac_channel: SPI Rack_DAC_dac3 of d5a_module: SPI Rack_DAC>\n"
     ]
    }
   ],
   "source": [
    "mw_switch.open_port(3)\n"
   ]
  },
  {
   "cell_type": "code",
   "execution_count": 45,
   "metadata": {},
   "outputs": [
    {
     "name": "stdout",
     "output_type": "stream",
     "text": [
      "Closing port 6, shutting down: <d5a_dac_channel: SPI Rack_DAC_dac6 of d5a_module: SPI Rack_DAC> to 0V\n",
      "Closing port 1, shutting down: <d5a_dac_channel: SPI Rack_DAC_dac1 of d5a_module: SPI Rack_DAC> to 0V\n",
      "Closing port 2, shutting down: <d5a_dac_channel: SPI Rack_DAC_dac2 of d5a_module: SPI Rack_DAC> to 0V\n",
      "Closing port 3, shutting down: <d5a_dac_channel: SPI Rack_DAC_dac3 of d5a_module: SPI Rack_DAC> to 0V\n",
      "Closing port 4, shutting down: <d5a_dac_channel: SPI Rack_DAC_dac4 of d5a_module: SPI Rack_DAC> to 0V\n",
      "Closing port 5, shutting down: <d5a_dac_channel: SPI Rack_DAC_dac5 of d5a_module: SPI Rack_DAC> to 0V\n",
      "Closing port 6, shutting down: <d5a_dac_channel: SPI Rack_DAC_dac6 of d5a_module: SPI Rack_DAC> to 0V\n"
     ]
    }
   ],
   "source": [
    "mw_switch.close_port(6)\n",
    "mw_switch.close_all_ports()"
   ]
  },
  {
   "cell_type": "code",
   "execution_count": 4,
   "metadata": {},
   "outputs": [
    {
     "ename": "NameError",
     "evalue": "name 'spi' is not defined",
     "output_type": "error",
     "traceback": [
      "\u001b[1;31m---------------------------------------------------------------------------\u001b[0m",
      "\u001b[1;31mNameError\u001b[0m                                 Traceback (most recent call last)",
      "Input \u001b[1;32mIn [4]\u001b[0m, in \u001b[0;36m<module>\u001b[1;34m\u001b[0m\n\u001b[1;32m----> 1\u001b[0m \u001b[43mspi\u001b[49m\u001b[38;5;241m.\u001b[39mclose()\n",
      "\u001b[1;31mNameError\u001b[0m: name 'spi' is not defined"
     ]
    }
   ],
   "source": [
    "#spi.close()\n",
    "#raise ValueError\n",
    "#dac.dac1.voltage(0.5)"
   ]
  },
  {
   "cell_type": "code",
   "execution_count": 25,
   "metadata": {},
   "outputs": [
    {
     "name": "stdout",
     "output_type": "stream",
     "text": [
      "[0.0, 0]\n",
      "[0.0, 0]\n",
      "[0.0, 0]\n",
      "[0.0, 0]\n",
      "[0.0, 0]\n",
      "[0.0, 0]\n"
     ]
    }
   ],
   "source": [
    "for i in range(1,7):\n",
    "    #eval(f\"dac.dac{i}.span('range_8V_bi')\")\n",
    "    #eval(f\"dac.dac{i}.voltage(0)\")\n",
    "    print(eval(f\"dac.dac{i}.get_settings(i-1)\"))"
   ]
  },
  {
   "cell_type": "code",
   "execution_count": 8,
   "metadata": {},
   "outputs": [],
   "source": [
    "# for i in range(1,7):\n",
    "#     eval(f\"dac.dac{i}.span('range_4V_uni')\")"
   ]
  },
  {
   "cell_type": "code",
   "execution_count": 24,
   "metadata": {},
   "outputs": [],
   "source": [
    "dac.dac6.voltage(0)"
   ]
  },
  {
   "cell_type": "code",
   "execution_count": 23,
   "metadata": {},
   "outputs": [],
   "source": [
    "dac.dac6.voltage(4)"
   ]
  },
  {
   "cell_type": "code",
   "execution_count": 10,
   "metadata": {},
   "outputs": [
    {
     "ename": "KeyboardInterrupt",
     "evalue": "",
     "output_type": "error",
     "traceback": [
      "\u001b[1;31m---------------------------------------------------------------------------\u001b[0m",
      "\u001b[1;31mKeyboardInterrupt\u001b[0m                         Traceback (most recent call last)",
      "Input \u001b[1;32mIn [10]\u001b[0m, in \u001b[0;36m<module>\u001b[1;34m\u001b[0m\n\u001b[0;32m      1\u001b[0m \u001b[38;5;28;01mwhile\u001b[39;00m \u001b[38;5;28;01mTrue\u001b[39;00m:\n\u001b[0;32m      2\u001b[0m     dac\u001b[38;5;241m.\u001b[39mdac1\u001b[38;5;241m.\u001b[39mvoltage(\u001b[38;5;241m4\u001b[39m)\n\u001b[1;32m----> 3\u001b[0m     \u001b[43msleep\u001b[49m\u001b[43m(\u001b[49m\u001b[38;5;241;43m0.25\u001b[39;49m\u001b[43m)\u001b[49m\n\u001b[0;32m      4\u001b[0m     dac\u001b[38;5;241m.\u001b[39mdac1\u001b[38;5;241m.\u001b[39mvoltage(\u001b[38;5;241m0\u001b[39m)\n\u001b[0;32m      5\u001b[0m     sleep(\u001b[38;5;241m0.25\u001b[39m)\n",
      "\u001b[1;31mKeyboardInterrupt\u001b[0m: "
     ]
    }
   ],
   "source": [
    "while True:\n",
    "    dac.dac1.voltage(4)\n",
    "    sleep(0.25)\n",
    "    dac.dac1.voltage(0)\n",
    "    sleep(0.25)"
   ]
  },
  {
   "cell_type": "code",
   "execution_count": 11,
   "metadata": {},
   "outputs": [
    {
     "ename": "AttributeError",
     "evalue": "'d5a_module' object and its delegates have no attribute 'dac0'",
     "output_type": "error",
     "traceback": [
      "\u001b[1;31m---------------------------------------------------------------------------\u001b[0m",
      "\u001b[1;31mAttributeError\u001b[0m                            Traceback (most recent call last)",
      "Input \u001b[1;32mIn [11]\u001b[0m, in \u001b[0;36m<module>\u001b[1;34m\u001b[0m\n\u001b[1;32m----> 1\u001b[0m \u001b[43mspi\u001b[49m\u001b[38;5;241;43m.\u001b[39;49m\u001b[43mDAC\u001b[49m\u001b[38;5;241;43m.\u001b[39;49m\u001b[43mdac0\u001b[49m\u001b[38;5;241m.\u001b[39mvoltage(\u001b[38;5;241m0.5\u001b[39m)\n\u001b[0;32m      2\u001b[0m spi\u001b[38;5;241m.\u001b[39mset_dacs_zero()\n\u001b[0;32m      3\u001b[0m spi\u001b[38;5;241m.\u001b[39mDAC\u001b[38;5;241m.\u001b[39mdac0\u001b[38;5;241m.\u001b[39mvoltage()\n",
      "File \u001b[1;32m~\\AppData\\Roaming\\Python\\Python39\\site-packages\\qcodes\\utils\\helpers.py:440\u001b[0m, in \u001b[0;36mDelegateAttributes.__getattr__\u001b[1;34m(self, key)\u001b[0m\n\u001b[0;32m    437\u001b[0m     \u001b[38;5;28;01mexcept\u001b[39;00m \u001b[38;5;167;01mAttributeError\u001b[39;00m:\n\u001b[0;32m    438\u001b[0m         \u001b[38;5;28;01mpass\u001b[39;00m\n\u001b[1;32m--> 440\u001b[0m \u001b[38;5;28;01mraise\u001b[39;00m \u001b[38;5;167;01mAttributeError\u001b[39;00m(\n\u001b[0;32m    441\u001b[0m     \u001b[38;5;124m\"\u001b[39m\u001b[38;5;124m'\u001b[39m\u001b[38;5;132;01m{}\u001b[39;00m\u001b[38;5;124m'\u001b[39m\u001b[38;5;124m object and its delegates have no attribute \u001b[39m\u001b[38;5;124m'\u001b[39m\u001b[38;5;132;01m{}\u001b[39;00m\u001b[38;5;124m'\u001b[39m\u001b[38;5;124m\"\u001b[39m\u001b[38;5;241m.\u001b[39mformat(\n\u001b[0;32m    442\u001b[0m         \u001b[38;5;28mself\u001b[39m\u001b[38;5;241m.\u001b[39m\u001b[38;5;18m__class__\u001b[39m\u001b[38;5;241m.\u001b[39m\u001b[38;5;18m__name__\u001b[39m, key))\n",
      "\u001b[1;31mAttributeError\u001b[0m: 'd5a_module' object and its delegates have no attribute 'dac0'"
     ]
    }
   ],
   "source": [
    "spi.DAC.dac0.voltage(0.5)\n",
    "spi.set_dacs_zero()\n",
    "spi.DAC.dac0.voltage()"
   ]
  },
  {
   "cell_type": "code",
   "execution_count": null,
   "metadata": {},
   "outputs": [],
   "source": [
    "# # Import parts of the SPI Rack library\n",
    "# from spirack import SPI_rack, D5a_module\n",
    "# import qcodes_contrib_drivers.drivers.QuTech.D5a\n",
    "\n",
    "# spi_rack = SPI_rack(port=\"COM5\", baud=9600, timeout=1)  # Instantiate the controller module\n",
    "# spi_rack.unlock() # Unlock the controller to be able to send data\n",
    "\n",
    "# DAC = qcodes_contrib_drivers.drivers.QuTech.D5a.D5a('DAC', \n",
    "#                                                     spi_rack, \n",
    "#                                                     module = 1, \n",
    "#                                                     reset_voltages = True, \n",
    "#                                                     mV=False\n",
    "#                                                    )\n",
    "# DAC_mod = DAC.d5a"
   ]
  },
  {
   "cell_type": "code",
   "execution_count": null,
   "metadata": {},
   "outputs": [],
   "source": []
  },
  {
   "cell_type": "code",
   "execution_count": null,
   "metadata": {},
   "outputs": [],
   "source": [
    "# print(spi_rack.get_temperature())\n",
    "# for i in range(0,15):\n",
    "#     print(DAC_mod.get_settings(i))\n",
    "# #DAC._set_dac(0,0)"
   ]
  },
  {
   "cell_type": "code",
   "execution_count": null,
   "metadata": {},
   "outputs": [],
   "source": [
    "# DAC._set_span(0,'4v bi')"
   ]
  },
  {
   "cell_type": "code",
   "execution_count": null,
   "metadata": {},
   "outputs": [],
   "source": []
  },
  {
   "cell_type": "code",
   "execution_count": null,
   "metadata": {},
   "outputs": [],
   "source": [
    "# DAC_mod.change_span_update(1, D5a.range_4V_bi)\n",
    "\n",
    "# stepsize =  D5a.get_stepsize(1) # Get the stepsize of DAC 1\n",
    "# print(\"Stepsize: \" + str(stepsize) + \" V\")\n"
   ]
  },
  {
   "cell_type": "code",
   "execution_count": null,
   "metadata": {},
   "outputs": [],
   "source": []
  },
  {
   "cell_type": "code",
   "execution_count": null,
   "metadata": {},
   "outputs": [],
   "source": [
    "# spi_rack.close()"
   ]
  },
  {
   "cell_type": "code",
   "execution_count": null,
   "metadata": {},
   "outputs": [],
   "source": [
    "# battery_v = spi_rack.get_battery()\n",
    "# print(battery_v)"
   ]
  },
  {
   "cell_type": "code",
   "execution_count": null,
   "metadata": {},
   "outputs": [],
   "source": []
  },
  {
   "cell_type": "code",
   "execution_count": null,
   "metadata": {},
   "outputs": [],
   "source": []
  }
 ],
 "metadata": {
  "kernelspec": {
   "display_name": "Python 3 (ipykernel)",
   "language": "python",
   "name": "python3"
  },
  "language_info": {
   "codemirror_mode": {
    "name": "ipython",
    "version": 3
   },
   "file_extension": ".py",
   "mimetype": "text/x-python",
   "name": "python",
   "nbconvert_exporter": "python",
   "pygments_lexer": "ipython3",
   "version": "3.10.0"
  }
 },
 "nbformat": 4,
 "nbformat_minor": 4
}
