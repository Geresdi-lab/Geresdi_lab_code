{
 "cells": [
  {
   "cell_type": "code",
   "execution_count": null,
   "id": "e73dfcae-62ff-430d-8ef5-8f43551e748d",
   "metadata": {},
   "outputs": [],
   "source": [
    "def _manual_calibrate(self, f_data, z_data, ignoreslope=True,guessdelay=True,fixed_delay=None):\n",
    "        \"\"\"\n",
    "        Finds the parameters for normalization of the scattering data. See\n",
    "        Sij of port classes for explanation of parameters.\n",
    "        \"\"\"\n",
    "        \n",
    "        # Correct for delay and translate circle to origin\n",
    "        self.delay, params = self.manual_fit_phase(f_data,z_data)\n",
    "        z_data = self.z_data_raw * np.exp(2j*np.pi*self.delay*self.f_data)\n",
    "        xc, yc, self.r0 = self._fit_circle(z_data)\n",
    "        zc = complex(xc, yc)\n",
    "        z_data -= zc\n",
    "        \n",
    "        # Find off-resonant point by fitting offset phase\n",
    "        # (centered circle corresponds to lossless resonator in reflection)\n",
    "        self.fr, self.Ql, theta, self.delay_remaining = self._fit_phase_x(z_data)\n",
    "        self.theta = self._periodic_boundary(theta, np.pi)\n",
    "        # beta = self._periodic_boundary(theta - np.pi)\n",
    "        beta = self._periodic_boundary(theta+np.pi,np.pi)\n",
    "        offrespoint = zc + self.r0*np.cos(beta) + 1j*self.r0*np.sin(beta)\n",
    "        self.offrespoint = offrespoint\n",
    "        #print(f\"offresspoint = {offrespoint}\")\n",
    "        self.a = np.absolute(offrespoint)\n",
    "        #self.alpha = np.angle(offrespoint)\n",
    "        self.alpha = self._periodic_boundary(np.angle(offrespoint)+np.pi,np.pi)\n",
    "        #print(f\"alpha = {self.alpha}\")\n",
    "        self.phi = self._periodic_boundary(beta - self.alpha, np.pi)\n",
    "        #print(f\"phi = {self.phi}\")\n",
    "        print(f\"man calib: r0 = {self.r0}, zc = {zc}\")\n",
    "        # Store radius for later calculation\n",
    "        self.r0 /= self.a\n",
    "        "
   ]
  }
 ],
 "metadata": {
  "kernelspec": {
   "display_name": "Python 3 (ipykernel)",
   "language": "python",
   "name": "python3"
  },
  "language_info": {
   "codemirror_mode": {
    "name": "ipython",
    "version": 3
   },
   "file_extension": ".py",
   "mimetype": "text/x-python",
   "name": "python",
   "nbconvert_exporter": "python",
   "pygments_lexer": "ipython3",
   "version": "3.10.0"
  }
 },
 "nbformat": 4,
 "nbformat_minor": 5
}
